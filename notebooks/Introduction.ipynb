{
 "cells": [
  {
   "cell_type": "markdown",
   "id": "9f906532-9f14-42f7-a719-be41b585b5c7",
   "metadata": {},
   "source": [
    "# What is\n",
    "In electronic-structure theory, Hartree-Fock method is considered to be fundamental. It is the basis of the Molecular Orbital theory. This states the each electron's motion does not depend explicitly on the instantaneous motions of other electrons and can be described by a single-particle function called orbital. However, these orbitals are only mathematical functions which can only be used to approximate the reality except for one-electron systems. In these cases the orbitals are exact eigen-functions of the full electronic Hamiltonians.\n",
    "# Why this\n",
    "The Hartree-Fock teory was developed to slve the *electronic Schroedinger equation* (time independent) after invoking Born-Oppenheimer approximation. The non-relativistic time-independent *Schroedinger equation* can be written as, $H|\\Psi> = E|\\Psi>$ \n"
   ]
  },
  {
   "cell_type": "code",
   "execution_count": null,
   "id": "d79a3e2f-a062-45d4-a916-259911063f11",
   "metadata": {},
   "outputs": [],
   "source": []
  }
 ],
 "metadata": {
  "kernelspec": {
   "display_name": "Python 3 (ipykernel)",
   "language": "python",
   "name": "python3"
  },
  "language_info": {
   "codemirror_mode": {
    "name": "ipython",
    "version": 3
   },
   "file_extension": ".py",
   "mimetype": "text/x-python",
   "name": "python",
   "nbconvert_exporter": "python",
   "pygments_lexer": "ipython3",
   "version": "3.8.16"
  }
 },
 "nbformat": 4,
 "nbformat_minor": 5
}
