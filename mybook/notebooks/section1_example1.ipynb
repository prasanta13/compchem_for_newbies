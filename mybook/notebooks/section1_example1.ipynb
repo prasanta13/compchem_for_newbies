{
 "cells": [
  {"cell_type":"markdown","metadata":{},"source":["# Overlap & Kinetic Integrals (Toy Example)\n","This is a minimal placeholder notebook. Add code and plots here."]},
  {"cell_type":"code","execution_count":null,"metadata":{},"outputs":[],"source":["import numpy as np\n","S = np.array([[1.0, 0.4],[0.4, 1.0]])\n","S"] }
 ],
 "metadata": {"kernelspec":{"display_name":"Python 3","language":"python","name":"python3"},
              "language_info":{"name":"python","version":"3.11"}},
 "nbformat":4,"nbformat_minor":5
}
