{
 "cells": [
  {"cell_type":"markdown","metadata":{},"source":["# Minimal Hartree–Fock Skeleton\n","Replace this with your SCF loop and plotting."]},
  {"cell_type":"code","execution_count":null,"metadata":{},"outputs":[],"source":["print('Hello HF!')"] }
 ],
 "metadata": {"kernelspec":{"display_name":"Python 3","language":"python","name":"python3"},
              "language_info":{"name":"python","version":"3.11"}},
 "nbformat":4,"nbformat_minor":5
}
